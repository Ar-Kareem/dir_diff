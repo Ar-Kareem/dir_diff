{
 "cells": [
  {
   "cell_type": "code",
   "execution_count": 1,
   "metadata": {},
   "outputs": [],
   "source": [
    "import os\n",
    "import json\n",
    "from functools import reduce\n",
    "from pathlib import Path\n",
    "import importlib\n",
    "\n",
    "import main"
   ]
  },
  {
   "cell_type": "code",
   "execution_count": 4,
   "metadata": {},
   "outputs": [],
   "source": [
    "# def fix_keys(jf, prefix, new_prefix):\n",
    "#     if prefix not in jf:\n",
    "#         return\n",
    "#     for k in jf.keys():\n",
    "#         if not k.startswith(prefix):\n",
    "#             return\n",
    "    \n",
    "#     jf[new_prefix] = jf[prefix]\n",
    "#     del jf[prefix]\n",
    "#     keys_to_del = []\n",
    "#     for k, v in jf.items():\n",
    "#         if k == new_prefix:\n",
    "#             continue\n",
    "#         new_key = k[len(prefix):]\n",
    "#         jf[new_prefix][new_key] = v\n",
    "#         keys_to_del.append(k)\n",
    "#     for k in keys_to_del:\n",
    "#         del jf[k]\n",
    "#     return jf\n",
    "\n",
    "# allf = [f for f in os.listdir('.') if f.endswith('.json')]\n",
    "\n",
    "# for f in allf:\n",
    "#     print(f)\n",
    "#     jf = json.load(open(f))\n",
    "#     len_prev = len(json.dumps(jf))\n",
    "#     print(f, ' ||| ', jf.keys())\n",
    "#     jf = fix_keys(json.load(open(f)), 'M:/', 'root')\n",
    "#     if jf is None: \n",
    "#         print('skipping')\n",
    "#         continue\n",
    "#     print(f, ' ||| ', jf.keys())\n",
    "#     print(len_prev, len(json.dumps(jf)))\n",
    "#     input()\n",
    "#     with open(f, 'w') as f:\n",
    "#         json.dump(jf, f, indent=2)"
   ]
  },
  {
   "cell_type": "code",
   "execution_count": 10,
   "metadata": {},
   "outputs": [],
   "source": [
    "\n",
    "\n",
    "json_path = r\"M:\\MyFiles\\Code\\Python\\Scripts\\directory_tree_save_and_compare\\jsons\\result_before_unplugging_ssd480gb.json\"  # Specify the desired JSON file path\n",
    "with open(json_path, 'r') as json_file:\n",
    "    old_dict = json.load(json_file)\n",
    "\n",
    "json_path = r\"M:\\MyFiles\\Code\\Python\\Scripts\\directory_tree_save_and_compare\\jsons\\result_after_everything_ssd2tb.json\"  # Specify the desired JSON file path\n",
    "with open(json_path, 'r') as json_file:\n",
    "    new_dict = json.load(json_file)\n"
   ]
  },
  {
   "cell_type": "code",
   "execution_count": 7,
   "metadata": {},
   "outputs": [],
   "source": [
    "importlib.reload(main)\n",
    "# to store a new drive\n",
    "# drive = \".\\\\new1\\\\\"\n",
    "drive = \"./new1\"\n",
    "# drive = \"N:\\\\\"\n",
    "save_path = r\"M:\\MyFiles\\Code\\Python\\Scripts\\directory_tree_save_and_compare\\jsons\\temp1.json\"\n",
    "# save_path = r\"M:\\MyFiles\\Code\\Python\\Scripts\\directory_tree_save_and_compare\\jsons\\temp2.json\"\n",
    "new_dict = main.get_directory_structure(drive)\n",
    "# new_dict = rename_top_keys(new_dict, \"M:/\", len(drive))\n",
    "with open(save_path, 'w') as json_file:\n",
    "    json.dump(new_dict, json_file, indent=4)\n"
   ]
  },
  {
   "cell_type": "code",
   "execution_count": 9,
   "metadata": {},
   "outputs": [],
   "source": [
    "importlib.reload(main)\n",
    "\n",
    "root = main.get_tree(old_path=old_dict['root'], new_path=new_dict['root'])\n"
   ]
  },
  {
   "cell_type": "code",
   "execution_count": 6,
   "metadata": {},
   "outputs": [
    {
     "name": "stdout",
     "output_type": "stream",
     "text": [
      "start node_str as empty string then add child number to it to go down the tree separated by spaces:\n",
      "\n",
      "\n",
      "/MyFiles/Downloads\n",
      "(...) Downloads  <:(0 | 0) >:(2 | 0)\n",
      "\n",
      "children: 3\n",
      "\n",
      "1     (...) Browser    <:(0 | 0) >:(2 | 0)\n"
     ]
    }
   ],
   "source": [
    "print('start node_str as empty string then add child number to it to go down the tree separated by spaces:\\n\\n')\n",
    "node_str = '''\n",
    "2 1 \n",
    "\n",
    "'''\n",
    "node_str = [i for i in node_str.strip().split(' ') if i != '']\n",
    "cur = root\n",
    "for i in node_str:\n",
    "    chld = [i for i in cur.children if not i.is_same()]\n",
    "    cur = chld[int(i)-1]\n",
    "\n",
    "print(cur.full_name)\n",
    "print(cur.get_print_line(), flush=True)\n",
    "print(f'\\nchildren: {len(cur.children)}\\n', flush=True)\n",
    "chld = [i for i in cur.children if not i.is_same()]\n",
    "for i, c in enumerate(chld):\n",
    "    print(i+1, c.get_print_line(4), flush=True)\n",
    "del_files = cur.old_files - cur.new_files\n",
    "if len(del_files) > 0:\n",
    "    print('-'*20, flush=True)\n",
    "    print(f'\\nfiles: {len(cur.children)}\\n', flush=True)\n",
    "    for prev in del_files:\n",
    "        print('DEL', prev)\n",
    "    print('-'*20, flush=True)\n",
    "    print('-'*20, flush=True)\n",
    "    print('-'*20, flush=True)\n"
   ]
  }
 ],
 "metadata": {
  "kernelspec": {
   "display_name": "base",
   "language": "python",
   "name": "python3"
  },
  "language_info": {
   "codemirror_mode": {
    "name": "ipython",
    "version": 3
   },
   "file_extension": ".py",
   "mimetype": "text/x-python",
   "name": "python",
   "nbconvert_exporter": "python",
   "pygments_lexer": "ipython3",
   "version": "3.11.5"
  },
  "orig_nbformat": 4
 },
 "nbformat": 4,
 "nbformat_minor": 2
}
